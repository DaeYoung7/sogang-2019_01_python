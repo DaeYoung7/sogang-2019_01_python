{
 "cells": [
  {
   "cell_type": "code",
   "execution_count": 6,
   "metadata": {},
   "outputs": [
    {
     "name": "stdout",
     "output_type": "stream",
     "text": [
      "__년도를 입력하시오:2019\n",
      "__월을 입력하시오:3\n",
      "__일을 입력하시오:22\n",
      "금요일\n"
     ]
    }
   ],
   "source": [
    "def input_date():\n",
    "    print(\"__년도를 입력하시오:\", end=\"\")\n",
    "    year=int(input())\n",
    "    print(\"__월을 입력하시오:\", end=\"\")\n",
    "    month=int(input())\n",
    "    print(\"__일을 입력하시오:\", end=\"\")\n",
    "    day=int(input())\n",
    "    return year, month, day\n",
    "def is_leap(year):\n",
    "    if (year%400==0)|((year%100!=0)&(year%4==0)):\n",
    "        return True\n",
    "    else:\n",
    "        return False\n",
    "def get_day_name(year, month, day):\n",
    "    countDay=0\n",
    "    for i in range(1, year):\n",
    "        if is_leap(i)==True:\n",
    "            countDay+=366\n",
    "        else:countDay+=365\n",
    "    if is_leap(year)==True:\n",
    "        for j in range(1,month):\n",
    "            if j%2==0:\n",
    "                if j>7:\n",
    "                    countDay+=31\n",
    "                elif j==2:\n",
    "                    countDay+=29\n",
    "                else:\n",
    "                    countDay+=30\n",
    "            else:\n",
    "                if j>8:\n",
    "                    countDay+=30\n",
    "                else:\n",
    "                    countDay+=31\n",
    "    else:\n",
    "        for j in range(1,month):\n",
    "            if j%2==0:\n",
    "                if j>7:\n",
    "                    countDay+=31\n",
    "                elif j==2:\n",
    "                    countDay+=28\n",
    "                else:\n",
    "                    countDay+=30\n",
    "            else:\n",
    "                if j>8:\n",
    "                    countDay+=30\n",
    "                else:\n",
    "                    countDay+=31\n",
    "    countDay+=day\n",
    "    rest=countDay%7\n",
    "    arr=[\"월요일\", \"화요일\",\"수요일\",\"목요일\",\"금요일\",\"토요일\",\"일요일\"]\n",
    "    return arr[rest-1]\n",
    "\n",
    "if __name__==\"__main__\":\n",
    "    year, month, day=input_date()\n",
    "    day_name = get_day_name(year, month, day)\n",
    "    print(day_name)\n",
    "    if is_leap(year) == True:\n",
    "        print(\"입력하신 %s은 윤년입니다\"% year)"
   ]
  },
  {
   "cell_type": "code",
   "execution_count": null,
   "metadata": {},
   "outputs": [],
   "source": []
  }
 ],
 "metadata": {
  "kernelspec": {
   "display_name": "Python 3",
   "language": "python",
   "name": "python3"
  },
  "language_info": {
   "codemirror_mode": {
    "name": "ipython",
    "version": 3
   },
   "file_extension": ".py",
   "mimetype": "text/x-python",
   "name": "python",
   "nbconvert_exporter": "python",
   "pygments_lexer": "ipython3",
   "version": "3.6.8"
  }
 },
 "nbformat": 4,
 "nbformat_minor": 2
}
