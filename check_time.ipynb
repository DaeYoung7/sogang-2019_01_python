{
 "cells": [
  {
   "cell_type": "code",
   "execution_count": 5,
   "metadata": {},
   "outputs": [
    {
     "name": "stdout",
     "output_type": "stream",
     "text": [
      "Initializing Verbose.\n",
      "\n",
      " 1565876531.3085155 <function aq at 0x00000121E1DDDA60>\n",
      "Program start\n",
      "\n",
      " 1565876531.3085155 <function Verbose.__call__ at 0x00000121E1DDDAE8>\n",
      "Begin  my_function\n",
      "hello,Mickey!\n",
      "End  my_function\n",
      "1565876531.3085155\n",
      "실행시간: 0.0\n",
      "\n",
      " 1565876531.3085155 <function Verbose.__call__ at 0x00000121E1DDDAE8>\n",
      "Begin  my_function\n",
      "hello,Minnie!\n",
      "End  my_function\n",
      "1565876531.3085155\n",
      "실행시간: 0.0\n",
      "\n",
      " 1565876531.3095136 <function Verbose.__call__ at 0x00000121E1DDDAE8>\n",
      "Begin  my_function\n",
      "hello,Donald!\n",
      "End  my_function\n",
      "1565876531.3095136\n",
      "실행시간: 0.0\n",
      "1565876531.3095136\n",
      "실행시간: 0.0009980201721191406\n"
     ]
    }
   ],
   "source": [
    "import time\n",
    "def checktime(func):\n",
    "    def newF(*args,**kwargv):\n",
    "        start=time.time()\n",
    "        print(\"\\n\",start,func)\n",
    "        func(*args,**kwargv)\n",
    "        end=time.time()\n",
    "        print(end)\n",
    "        print('실행시간:',end-start)\n",
    "    return newF\n",
    "\n",
    "class Verbose():\n",
    "    def __init__(self, f):\n",
    "        print(\"Initializing Verbose.\")\n",
    "        self.f=f\n",
    "    @checktime\n",
    "    def __call__(self, st):\n",
    "        print(\"Begin \", self.f.__name__)\n",
    "        self.f(st)\n",
    "        print(\"End \", self.f.__name__)\n",
    "        \n",
    "\n",
    "        \n",
    "@Verbose \n",
    "def my_function(st):\n",
    "    print(\"hello,{}!\" .format(st))\n",
    "@checktime\n",
    "def aq():\n",
    "    print(\"Program start\")\n",
    "    my_function(\"Mickey\")\n",
    "    my_function(\"Minnie\")\n",
    "    my_function(\"Donald\")\n",
    "aq()"
   ]
  },
  {
   "cell_type": "code",
   "execution_count": null,
   "metadata": {},
   "outputs": [],
   "source": []
  }
 ],
 "metadata": {
  "kernelspec": {
   "display_name": "Python 3",
   "language": "python",
   "name": "python3"
  },
  "language_info": {
   "codemirror_mode": {
    "name": "ipython",
    "version": 3
   },
   "file_extension": ".py",
   "mimetype": "text/x-python",
   "name": "python",
   "nbconvert_exporter": "python",
   "pygments_lexer": "ipython3",
   "version": "3.6.8"
  }
 },
 "nbformat": 4,
 "nbformat_minor": 2
}
