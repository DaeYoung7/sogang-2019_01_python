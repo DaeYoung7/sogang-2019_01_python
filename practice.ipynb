{
 "cells": [
  {
   "cell_type": "code",
   "execution_count": 13,
   "metadata": {},
   "outputs": [
    {
     "name": "stdout",
     "output_type": "stream",
     "text": [
      "Overwriting chan.py\n"
     ]
    }
   ],
   "source": [
    "%%writefile chan.py\n",
    "def count(b):\n",
    "    a={}\n",
    "    Input=b.lower()\n",
    "    for i in range(len(Input)):\n",
    "        if Input[i] not in a:\n",
    "            a[Input[i]]=1\n",
    "        else:\n",
    "            a[Input[i]]+=1\n",
    "    return a\n",
    "\n",
    "def bigsmall(Input):\n",
    "    b=\"\"\n",
    "    for i in Input:\n",
    "        if i.isupper():\n",
    "            b=b+i.lower()\n",
    "        elif i.islower():\n",
    "            b=b+i.upper()\n",
    "        else:\n",
    "            print(\"please enter english\")\n",
    "    return b\n",
    "\n",
    "while(1):\n",
    "    a=input(\"input:\")\n",
    "    if a==\"STOP\":\n",
    "        print(\"bye\")\n",
    "        break\n",
    "    else:\n",
    "        d=count(a)\n",
    "        l_k=list(d.keys())\n",
    "        l_v=list(d.values())\n",
    "        for i in range(len(l_k)):\n",
    "            print(\"({}:{})\" .format(l_k[i], l_v[i]), end=\"\")\n",
    "        print(\"\\n\",bigsmall(a))"
   ]
  },
  {
   "cell_type": "code",
   "execution_count": null,
   "metadata": {},
   "outputs": [
    {
     "name": "stdout",
     "output_type": "stream",
     "text": [
      "input:Sogang\n",
      "(s:1)(o:1)(g:2)(a:1)(n:1)\n",
      " sOGANG\n"
     ]
    }
   ],
   "source": [
    "%run chan.py"
   ]
  },
  {
   "cell_type": "code",
   "execution_count": null,
   "metadata": {},
   "outputs": [],
   "source": []
  }
 ],
 "metadata": {
  "kernelspec": {
   "display_name": "Python 3",
   "language": "python",
   "name": "python3"
  },
  "language_info": {
   "codemirror_mode": {
    "name": "ipython",
    "version": 3
   },
   "file_extension": ".py",
   "mimetype": "text/x-python",
   "name": "python",
   "nbconvert_exporter": "python",
   "pygments_lexer": "ipython3",
   "version": "3.6.8"
  }
 },
 "nbformat": 4,
 "nbformat_minor": 2
}
