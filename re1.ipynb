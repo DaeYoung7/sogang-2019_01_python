{
 "cells": [
  {
   "cell_type": "code",
   "execution_count": 1,
   "metadata": {},
   "outputs": [
    {
     "name": "stdout",
     "output_type": "stream",
     "text": [
      "주민번호가리기 실습과제 1번\n",
      "\n",
      "홍길동 남 560922-******* 02-705-8491\n",
      "홍길동 남 560922-******* 042-7052-8491\n",
      "김바한솔 남 911212-******* 042-705-8491\n",
      "김연찬 남 920922-******* 031-7054-8491\n"
     ]
    }
   ],
   "source": [
    "data=\"\"\"홍길동 560922-1089123 02-705-8491\n",
    "홍길동 560922-1089123 042-7052-8491\n",
    "김바한솔 911212-1089123 042-705-8491\n",
    "김연찬 920922-1089123 031-7054-8491\"\"\"\n",
    "print(\"주민번호가리기 실습과제 1번\\n\")\n",
    "\n",
    "name=[]\n",
    "\n",
    "phone=[]\n",
    "\n",
    "social=[]\n",
    "\n",
    "gender=[]\n",
    "\n",
    "data=data.split(\"\\n\")\n",
    "for i in data:\n",
    "    i=str(i)\n",
    "    temp=i.split(\" \")\n",
    "    name.append(temp[0])\n",
    "\n",
    "    social.append(temp[1])\n",
    "\n",
    "    phone.append(temp[2])\n",
    "    \n",
    "for p in range(len(social)):\n",
    "    i=str(social[p])\n",
    "    if int(i[7])%2==1:\n",
    "        gender.append(\"남\")\n",
    "    else:\n",
    "        gender.append(\"여\")\n",
    "    i=i[:7]+\"*******\"\n",
    "    social[p]=i\n",
    "for i in range(len(name)):\n",
    "    print(name[i], gender[i], social[i], phone[i])\n",
    "    "
   ]
  },
  {
   "cell_type": "code",
   "execution_count": null,
   "metadata": {},
   "outputs": [],
   "source": [
    "%%writefile private.txt\n",
    "홍길동 560922-1089123 02-705-8491\n",
    "홍길동 560922-1089123 042-7052-8491\n",
    "김바한솔 911212-1089123 042-705-8491\n",
    "김연찬 920922-1089123 031-7054-8491"
   ]
  },
  {
   "cell_type": "code",
   "execution_count": 3,
   "metadata": {},
   "outputs": [
    {
     "name": "stdout",
     "output_type": "stream",
     "text": [
      "주민번호가리기 실습과제 2번(정규식X)\n",
      "\n",
      "홍길동 남 560922-******* 02-705-8491\n",
      "홍길동 남 560922-******* 042-7052-8491\n",
      "김바한솔 남 911212-******* 042-705-8491\n",
      "김연찬 남 920922-******* 031-7054-8491\n"
     ]
    }
   ],
   "source": [
    "print(\"주민번호가리기 실습과제 2번(정규식X)\\n\")\n",
    "\n",
    "name=[]\n",
    "\n",
    "phone=[]\n",
    "\n",
    "social=[]\n",
    "\n",
    "gender=[]\n",
    "\n",
    "with open(\"private.txt\", \"r\", encoding=\"utf-8\") as fp:\n",
    "\n",
    "    data=fp.readlines()\n",
    "\n",
    "    for i in data:\n",
    "\n",
    "        i=str(i.strip())\n",
    "\n",
    "        temp=i.split(\" \")\n",
    "\n",
    "        name.append(temp[0])\n",
    "\n",
    "        social.append(temp[1])\n",
    "\n",
    "        phone.append(temp[2])\n",
    "for p in range(len(social)):\n",
    "    i=str(social[p])\n",
    "    if int(i[7])%2==1:\n",
    "        gender.append(\"남\")\n",
    "    else:\n",
    "        gender.append(\"여\")\n",
    "    i=i[:7]+\"*******\"\n",
    "    social[p]=i\n",
    "for i in range(len(name)):\n",
    "    print(name[i], gender[i], social[i], phone[i])"
   ]
  },
  {
   "cell_type": "code",
   "execution_count": null,
   "metadata": {},
   "outputs": [],
   "source": [
    "print(\"주민번호가리기 실습과제 2번(정규식O)--1\\n\")\n",
    "\n",
    "import re\n",
    "\n",
    "a=[]\n",
    "\n",
    "with open(\"private.txt\", \"r\", encoding=\"utf-8\") as fp:\n",
    "\n",
    "    data=fp.readlines()\n",
    "    \n",
    "for i in data:\n",
    "    i=i.strip()\n",
    "    p=re.compile(r'\\d{6}\\W\\d{7}')\n",
    "    temp=p.search(i)\n",
    "    start=temp.start()\n",
    "    end=temp.end()+1\n",
    "    temp=temp.group()\n",
    "    if int(temp[7])%2==0:\n",
    "        temp=str(temp[:7])+\"*******\"\n",
    "        print(i[:start], \"여\", temp, i[end:])\n",
    "    else:\n",
    "        temp=str(temp[:7])+\"*******\"\n",
    "        print(i[:start], \"남\", temp, i[end:])"
   ]
  },
  {
   "cell_type": "code",
   "execution_count": 9,
   "metadata": {},
   "outputs": [
    {
     "name": "stdout",
     "output_type": "stream",
     "text": [
      "주민번호가리기 실습과제 2번(정규식O)--2\n",
      "\n",
      "홍길동 560922-******* 02-705-8491 남\n",
      "홍길동 560922-******* 042-7052-8491 남\n",
      "김바한솔 911212-******* 042-705-8491 남\n",
      "김연찬 920922-******* 031-7054-8491 남\n"
     ]
    }
   ],
   "source": [
    "print(\"주민번호가리기 실습과제 2번(정규식O)--2\\n\")\n",
    "flag=0\n",
    "import re\n",
    "\n",
    "a=[]\n",
    "\n",
    "with open(\"private.txt\", \"r\", encoding=\"utf-8\") as fp:\n",
    "\n",
    "    data=fp.readlines()\n",
    "    \n",
    "for i in data:\n",
    "    i=i.strip()\n",
    "    p=re.compile(r'(\\d{6})\\W\\d{7}')\n",
    "    if int(p.search(i).group()[7])%2==0:\n",
    "        flag=0\n",
    "    else:\n",
    "        flag=1\n",
    "    i=p.sub(\"\\g<1>-*******\", i)\n",
    "    if flag==0:\n",
    "        print(i, \"여\")\n",
    "    else:\n",
    "        print(i, \"남\")"
   ]
  },
  {
   "cell_type": "code",
   "execution_count": null,
   "metadata": {},
   "outputs": [],
   "source": []
  }
 ],
 "metadata": {
  "kernelspec": {
   "display_name": "Python 3",
   "language": "python",
   "name": "python3"
  },
  "language_info": {
   "codemirror_mode": {
    "name": "ipython",
    "version": 3
   },
   "file_extension": ".py",
   "mimetype": "text/x-python",
   "name": "python",
   "nbconvert_exporter": "python",
   "pygments_lexer": "ipython3",
   "version": "3.6.8"
  }
 },
 "nbformat": 4,
 "nbformat_minor": 2
}
