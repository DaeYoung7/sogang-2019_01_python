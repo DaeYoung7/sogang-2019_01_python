{
 "cells": [
  {
   "cell_type": "code",
   "execution_count": 18,
   "metadata": {
    "scrolled": true
   },
   "outputs": [
    {
     "data": {
      "text/plain": [
       "'2019/04/10'"
      ]
     },
     "execution_count": 18,
     "metadata": {},
     "output_type": "execute_result"
    }
   ],
   "source": [
    "from time import *\n",
    "a=strftime(\"%Y/%m/%d/%A\", localtime())\n",
    "c=a.split(\"/\")\n",
    "strftime(\"%Y/%m/%d\", localtime())"
   ]
  },
  {
   "cell_type": "code",
   "execution_count": 19,
   "metadata": {},
   "outputs": [
    {
     "name": "stdout",
     "output_type": "stream",
     "text": [
      "년도: 2019\n",
      "월: 04\n",
      "일: 10\n",
      "요일: Wednesday\n"
     ]
    }
   ],
   "source": [
    "print(\"년도: {}\" .format(c[0]))\n",
    "print(\"월: {}\" .format(c[1]))\n",
    "print(\"일: {}\" .format(c[2]))\n",
    "print(\"요일: {}\" .format(c[3]))"
   ]
  },
  {
   "cell_type": "code",
   "execution_count": null,
   "metadata": {
    "collapsed": true
   },
   "outputs": [],
   "source": []
  }
 ],
 "metadata": {
  "kernelspec": {
   "display_name": "Python 3",
   "language": "python",
   "name": "python3"
  },
  "language_info": {
   "codemirror_mode": {
    "name": "ipython",
    "version": 3
   },
   "file_extension": ".py",
   "mimetype": "text/x-python",
   "name": "python",
   "nbconvert_exporter": "python",
   "pygments_lexer": "ipython3",
   "version": "3.6.8"
  }
 },
 "nbformat": 4,
 "nbformat_minor": 2
}
