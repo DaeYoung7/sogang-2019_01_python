{
 "cells": [
  {
   "cell_type": "code",
   "execution_count": 4,
   "metadata": {},
   "outputs": [
    {
     "name": "stdout",
     "output_type": "stream",
     "text": [
      "['23.45', '5.01', '889.00', '69.89']\n",
      "['23', '5', '889', '69', '30', '5']\n",
      "['4', '100', '50', '60']\n"
     ]
    }
   ],
   "source": [
    "data = \"\"\"\n",
    "ABC01: $23.45\n",
    "HGG42: $5.01\n",
    "CFXE1: $889.00\n",
    "XTC99: $69.89\n",
    "Total items found: 4\n",
    "I paid $30 for 100 apples,\n",
    "50 oranges, and 60 pears.\n",
    "I saved $5 on this order.\n",
    "\"\"\"\n",
    "\n",
    "import re\n",
    "\n",
    "p=re.compile(\"(?<=[$])\\d+[.]\\d+\")\n",
    "m=p.findall(data)\n",
    "p1=re.compile(\"(?<=[$])\\d+\")\n",
    "p2=re.compile(\"(?<![$])\\s(\\d+)\")\n",
    "m1=p1.findall(data)\n",
    "m2=p2.findall(data)\n",
    "print(m)\n",
    "print(m1)\n",
    "print(m2)"
   ]
  },
  {
   "cell_type": "code",
   "execution_count": 30,
   "metadata": {},
   "outputs": [
    {
     "name": "stdout",
     "output_type": "stream",
     "text": [
      "가격을 나타내는 숫자들\n",
      "30\n",
      "5\n",
      "수량을 나타내는 숫자들\n",
      "100\n",
      "50\n",
      "60\n"
     ]
    }
   ],
   "source": [
    "data = \"\"\"\n",
    "I paid $30 for 100 apples,\n",
    "50 oranges, and 60 pears.\n",
    "I saved $5 on this order.\n",
    "\"\"\"\n",
    "\n",
    "import re\n",
    "\n",
    "p1=re.compile(\"(?<=[$])\\d+\")\n",
    "p2=re.compile(\"(?<![$])\\s\\d+\")\n",
    "m1=p1.findall(data)\n",
    "m2=p2.findall(data)\n",
    "print(\"가격을 나타내는 숫자들\")\n",
    "for i in m1:\n",
    "    print(i)\n",
    "print(\"수량을 나타내는 숫자들\")\n",
    "for i in m2:\n",
    "    i=i.strip()\n",
    "    print(i)"
   ]
  },
  {
   "cell_type": "code",
   "execution_count": null,
   "metadata": {
    "collapsed": true
   },
   "outputs": [],
   "source": []
  }
 ],
 "metadata": {
  "kernelspec": {
   "display_name": "Python 3",
   "language": "python",
   "name": "python3"
  },
  "language_info": {
   "codemirror_mode": {
    "name": "ipython",
    "version": 3
   },
   "file_extension": ".py",
   "mimetype": "text/x-python",
   "name": "python",
   "nbconvert_exporter": "python",
   "pygments_lexer": "ipython3",
   "version": "3.6.8"
  }
 },
 "nbformat": 4,
 "nbformat_minor": 2
}
