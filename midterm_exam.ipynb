{
 "cells": [
  {
   "cell_type": "code",
   "execution_count": null,
   "metadata": {},
   "outputs": [],
   "source": [
    "20150614어대영"
   ]
  },
  {
   "cell_type": "code",
   "execution_count": 4,
   "metadata": {},
   "outputs": [
    {
     "name": "stdout",
     "output_type": "stream",
     "text": [
      "Overwriting Student.py\n"
     ]
    }
   ],
   "source": [
    "%%writefile Student.py\n",
    "\n",
    "class Student():\n",
    "    def __init__(self, num, name, kor, eng, math):\n",
    "        self._num=num\n",
    "        self._name=name\n",
    "        self._kor=kor\n",
    "        self._eng=eng\n",
    "        self._math=math\n",
    "        self._order=0\n",
    "    @property\n",
    "    def num(self):\n",
    "        return self._num\n",
    "    @property\n",
    "    def name(self):\n",
    "        return self._name\n",
    "    @property\n",
    "    def kor(self):\n",
    "        return self._kor\n",
    "    @property\n",
    "    def eng(self):\n",
    "        return self._eng\n",
    "    @property\n",
    "    def math(self):\n",
    "        return self._math\n",
    "    @property\n",
    "    def order(self):\n",
    "        return self._order\n",
    "    @order.setter\n",
    "    def order(self, value):\n",
    "        self._order=value\n",
    "    @property\n",
    "    def total(self):\n",
    "        return self.calculate_total()\n",
    "    @property\n",
    "    def avg(self):\n",
    "        return self.calculate_avg()\n",
    "    def calculate_total(self):\n",
    "        return self._kor+self._eng+self._math\n",
    "    def calculate_avg(self):\n",
    "        a=self.total\n",
    "        return a/3"
   ]
  },
  {
   "cell_type": "code",
   "execution_count": 3,
   "metadata": {},
   "outputs": [
    {
     "name": "stdout",
     "output_type": "stream",
     "text": [
      "Overwriting StudentGrade.py\n"
     ]
    }
   ],
   "source": [
    "%%writefile StudentGrade.py\n",
    "import Student, copy\n",
    "class StudentGradingSystem():\n",
    "    stu=[]\n",
    "    forOrdert=[]\n",
    "    forOrder=[]\n",
    "    classScore=[]\n",
    "    temp=[]\n",
    "    stu2=[]\n",
    "    topScore=[]\n",
    "    @classmethod\n",
    "    def register_student(cls, *arg):\n",
    "        for i in arg:\n",
    "            cls.stu.append(i)\n",
    "    def process(self):\n",
    "        for i in StudentGradingSystem.stu:\n",
    "            StudentGradingSystem.forOrdert.append(i.total)\n",
    "        StudentGradingSystem.forOrder=sorted(StudentGradingSystem.forOrdert, reverse=True)\n",
    "        for i in StudentGradingSystem.stu:\n",
    "            i.order=StudentGradingSystem.forOrder.index(i.total)+1\n",
    "        addAll=0\n",
    "        addKor=0\n",
    "        addEng=0\n",
    "        addMath=0\n",
    "        for i in StudentGradingSystem.stu:\n",
    "            addAll+=i.total\n",
    "            addKor+=i.kor\n",
    "            addEng+=i.eng\n",
    "            addMath+=i.math\n",
    "        StudentGradingSystem.temp.append(addAll)\n",
    "        StudentGradingSystem.temp.append(addKor)\n",
    "        StudentGradingSystem.temp.append(addEng)\n",
    "        StudentGradingSystem.temp.append(addMath)\n",
    "        for i in StudentGradingSystem.temp:\n",
    "            i/=len(StudentGradingSystem.stu)\n",
    "            StudentGradingSystem.classScore.append(i)\n",
    "    @classmethod\n",
    "    def print_student(cls):\n",
    "        count=0\n",
    "        temp2=copy.deepcopy(cls.stu)\n",
    "        for i in cls.forOrder:\n",
    "            for j in temp2:\n",
    "                if i==j.total:\n",
    "                    cls.stu2.append(j)\n",
    "                    del(temp2[temp2.index(j)])\n",
    "                    break\n",
    "        for i in range(5):\n",
    "            print(\"번호: {}, 이름: {}, 국어: {}, 영어: {}, 수학: {}, 총점: {}, 평균: {:.2f}, 등수: {}\"\\\n",
    "                  .format(cls.stu2[i].num, cls.stu2[i].name,cls.stu2[i].kor, cls.stu2[i].eng, cls.stu2[i].math\\\n",
    "                         ,cls.stu2[i].total, cls.stu2[i].avg, cls.stu2[i].order))\n",
    "        print(\"\\n총점 반 평균:\", cls.classScore[0])\n",
    "        print(\"국어 반 평균:\", cls.classScore[1])\n",
    "        print(\"영어 반 평균:\", cls.classScore[2])\n",
    "        print(\"수학 반 평균:\", cls.classScore[3])\n",
    "    @classmethod\n",
    "    def print_class_information(cls):\n",
    "        check=input(\"\\n과목:\")\n",
    "        print(\"\\n최고점을 받은 학생들\")\n",
    "        if check==\"kor\":\n",
    "            maxk=cls.stu2[0].kor\n",
    "            for i in range(len(cls.stu2)):\n",
    "                if maxk<cls.stu2[i].kor:\n",
    "                    maxk=cls.stu2[i].kor\n",
    "            for i in range(len(cls.stu2)):\n",
    "                if maxk==cls.stu[i].kor:\n",
    "                    print(\"번호: {}, 이름: {}, 국어: {}\".format(cls.stu[i].num, cls.stu[i].name, cls.stu[i].kor))\n",
    "        if check==\"eng\":\n",
    "            maxe=cls.stu2[0].eng\n",
    "            for i in range(len(cls.stu2)):\n",
    "                if maxe<cls.stu2[i].eng:\n",
    "                    maxe=cls.stu2[i].eng\n",
    "            for i in range(len(cls.stu2)):\n",
    "                if maxe==cls.stu[i].eng:\n",
    "                    print(\"번호: {}, 이름: {}, 영어: {}\".format(cls.stu[i].num, cls.stu[i].name, cls.stu[i].eng))\n",
    "        if check==\"math\":\n",
    "            maxm=cls.stu2[0].math\n",
    "            for i in range(len(cls.stu2)):\n",
    "                if maxm<cls.stu2[i].math:\n",
    "                    maxm=cls.stu2[i].math\n",
    "            for i in range(len(cls.stu2)):\n",
    "                if maxm==cls.stu[i].math:\n",
    "                    print(\"번호: {}, 이름: {}, 수학: {}\".format(cls.stu[i].num, cls.stu[i].name, cls.stu[i].math))"
   ]
  },
  {
   "cell_type": "code",
   "execution_count": null,
   "metadata": {},
   "outputs": [],
   "source": [
    "def checkTime(func):\n",
    "    import time\n",
    "    def newFunc():\n",
    "        start=time.time()\n",
    "        func()\n",
    "        end=time.time()\n",
    "        print(\"\\n실행시간:\", end-start)\n",
    "    return newFunc\n",
    "\n",
    "lp=lambda x: x.split(\" \")\n",
    "def main():\n",
    "    import Student, StudentGrade\n",
    "    temp=[]\n",
    "    with open(\"test.txt\", \"r\", encoding=\"utf-8\") as fp:\n",
    "        data=fp.readlines()\n",
    "        for i in data:\n",
    "            t=lp(i)\n",
    "            stu=Student.Student(int(t[1]), t[3], int(t[5]), int(t[7]), int(t[9]))\n",
    "            temp.append(stu)\n",
    "    stuAll=StudentGrade.StudentGradingSystem()\n",
    "    stuAll.register_student(temp[0], temp[1], temp[2], temp[3], temp[4])\n",
    "    stuAll.process()\n",
    "    stuAll.print_student()\n",
    "    stuAll.print_class_information();  \n",
    "\n",
    "class WrongStudentRecord(Exception):\n",
    "    def __init__(self, msg):\n",
    "        self._msg=msg \n",
    "@checkTime\n",
    "def errorTest():#에러메세지 저장하는 함수\n",
    "    try:\n",
    "        main()\n",
    "    except IndexError as e:\n",
    "        raise WrongStudentRecord(\"잘못된 성적 데이터가 있습니다.\\n성적 처리 시스템이 비정상 종료합니다.\")\n",
    "    except ValueError:\n",
    "        raise WrongStudentRecord(\"성적에 숫자가 아닌 부분이 있습니다.\\n성적 처리 시스템이 비정상 종료합니다.\")\n",
    "    \n",
    "#에러메세지 불러오는 역할\n",
    "try:\n",
    "    errorTest()\n",
    "except WrongStudentRecord as e:\n",
    "    print(e.args[0])"
   ]
  },
  {
   "cell_type": "code",
   "execution_count": 1,
   "metadata": {},
   "outputs": [
    {
     "name": "stdout",
     "output_type": "stream",
     "text": [
      "Overwriting test.txt\n"
     ]
    }
   ],
   "source": [
    "%%writefile test.txt\n",
    "번호: 1 이름: 홍길일 국어: 90 영어: 80 수학: 85\n",
    "번호: 2 이름: 홍길이 국어: 90 영어: 85 수학: 90\n",
    "번호: 3 이름: 홍길삼 국어: 80 영어: 80 수학: 80\n",
    "번호: 4 이름: 홍길사 국어: 90 영어: 92 수학: 83\n",
    "번호: 5 이름: 홍길오 국어: 85 영어: 85 수학: 90"
   ]
  },
  {
   "cell_type": "code",
   "execution_count": null,
   "metadata": {},
   "outputs": [],
   "source": []
  },
  {
   "cell_type": "code",
   "execution_count": null,
   "metadata": {},
   "outputs": [],
   "source": []
  },
  {
   "cell_type": "code",
   "execution_count": null,
   "metadata": {},
   "outputs": [],
   "source": [
    "%%writefile 20150614_어대영.py\n",
    "import sys, datetime\n",
    "temp=[]\n",
    "for i in sys.argv[1:]:\n",
    "    i=int(i)\n",
    "    temp.append(i)\n",
    "know=datetime.date(temp[0], temp[1], temp[2])\n",
    "dayE=know.strftime(\"%A\")\n",
    "day={\"Monday\":\"월요일\",\n",
    "    \"Tuesday\":\"화요일\",\n",
    "    \"Wendsday\":\"수요일\",\n",
    "    \"Thursdat\":\"목요일\",\n",
    "    \"Friday\":\"금요일\",\n",
    "    \"Saturday\":\"토요일\",\n",
    "    \"Sunday\":\"일요일\"}\n",
    "print(day[dayE])"
   ]
  },
  {
   "cell_type": "code",
   "execution_count": null,
   "metadata": {},
   "outputs": [],
   "source": [
    "%run 20150614_어대영.py 2019 4 22"
   ]
  },
  {
   "cell_type": "code",
   "execution_count": null,
   "metadata": {},
   "outputs": [],
   "source": []
  },
  {
   "cell_type": "code",
   "execution_count": null,
   "metadata": {},
   "outputs": [],
   "source": []
  }
 ],
 "metadata": {
  "kernelspec": {
   "display_name": "Python 3",
   "language": "python",
   "name": "python3"
  },
  "language_info": {
   "codemirror_mode": {
    "name": "ipython",
    "version": 3
   },
   "file_extension": ".py",
   "mimetype": "text/x-python",
   "name": "python",
   "nbconvert_exporter": "python",
   "pygments_lexer": "ipython3",
   "version": "3.6.8"
  }
 },
 "nbformat": 4,
 "nbformat_minor": 2
}
