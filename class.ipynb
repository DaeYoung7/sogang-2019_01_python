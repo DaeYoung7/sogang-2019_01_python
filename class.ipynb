{
 "cells": [
  {
   "cell_type": "code",
   "execution_count": 10,
   "metadata": {},
   "outputs": [
    {
     "name": "stdout",
     "output_type": "stream",
     "text": [
      "이름은 김봉수이고 나이는  49 살이고 남자입니다\n",
      "급여는  20000000 원입니다.\n",
      "현재 직업에 만족합니다.\n",
      "이름은 이지은이고 나이는  60 살이고 여자입니다\n",
      "급여는  50000000 원입니다.\n",
      "현재 직업에 매우 만족합니다.\n",
      "이름은 심수봉이고 나이는  29 살이고 여자입니다\n",
      "급여는  10000000 원입니다.\n",
      "현재 직업에 온 몸을 바쳐서 일합니다.\n",
      "행보카다!!\n"
     ]
    }
   ],
   "source": [
    "class Person():\n",
    "    def __init__(self, name, age, gender):\n",
    "        self.name=name\n",
    "        self.age=age\n",
    "        self.gender=gender\n",
    "    def aboutMe(self):\n",
    "        print(\"이름은 \"+ self.name+\"이고 나이는 \",self.age,\"살이고 \"+self.gender+\"입니다\")\n",
    "    def sleep(self):\n",
    "        print(\"잔다\")\n",
    "    def eat(self):\n",
    "        print(\"먹는다\")\n",
    "    def happy(self):\n",
    "        print(\"행보카다!!\")\n",
    "class Employee(Person):\n",
    "    def __init__(self, name, age, gender, salary):\n",
    "        Person.__init__(self, name, age,gender)\n",
    "        self.salary=salary\n",
    "    def aboutMe(self):\n",
    "        Person.aboutMe(self)\n",
    "        print(\"급여는 \",self.salary,\"원입니다.\")\n",
    "    def work(self):\n",
    "        print(\"일하자\")\n",
    "class Manager(Employee):\n",
    "    def __init__(self, name, age, gender, salary, satisfy):\n",
    "        Employee.__init__(self, name, age, gender, salary)\n",
    "        self.satisfy=satisfy\n",
    "    def aboutMe(self):\n",
    "        Employee.aboutMe(self)\n",
    "        print(\"현재 직업에 \"+self.satisfy+\"합니다.\")\n",
    "              \n",
    "class Hourly(Employee):\n",
    "    def __init__(self, name, age, gender, salary, satisfy):\n",
    "        Employee.__init__(self, name, age, gender, salary)\n",
    "        self.satisfy=satisfy\n",
    "    def aboutMe(self):\n",
    "        Employee.aboutMe(self)\n",
    "        print(\"현재 직업에 \"+self.satisfy+\"합니다.\")\n",
    "\n",
    "class Staff(Employee):\n",
    "    def __init__(self, name, age, gender, salary, satisfy):\n",
    "        Employee.__init__(self, name, age, gender, salary)\n",
    "        self.satisfy=satisfy\n",
    "    def aboutMe(self):\n",
    "        Employee.aboutMe(self)\n",
    "        print(\"현재 직업에 \"+self.satisfy+\"합니다.\")\n",
    "\n",
    "staff1=Staff(\"김봉수\", 49, \"남자\", 20000000, \"만족\")\n",
    "manager1=Manager(\"이지은\", 60, \"여자\", 50000000, \"매우 만족\")\n",
    "hourly1=Hourly(\"심수봉\", 29, \"여자\", 10000000, \"온 몸을 바쳐서 일\")\n",
    "\n",
    "staff1.aboutMe()\n",
    "manager1.aboutMe()\n",
    "hourly1.aboutMe()\n",
    "staff1.happy()"
   ]
  },
  {
   "cell_type": "code",
   "execution_count": 12,
   "metadata": {},
   "outputs": [],
   "source": [
    "class car():\n",
    "    def __init__(self, name,price):\n",
    "        self.name=name\n",
    "        self.price=price\n",
    "    def drive(self, good):\n",
    "        print(\"driving\"+good)\n",
    "    def printf(self):\n",
    "        print(\"\")\n",
    "        \n",
    "class sportcar(car):\n",
    "    def __init__(self, name, price, whose):\n",
    "        car.__init__(self, name, price)\n",
    "        self.whose=whose\n",
    "c=sportcar(\"붕붕이\", 200000000, \"엄마\")"
   ]
  },
  {
   "cell_type": "code",
   "execution_count": null,
   "metadata": {},
   "outputs": [],
   "source": []
  }
 ],
 "metadata": {
  "kernelspec": {
   "display_name": "Python 3",
   "language": "python",
   "name": "python3"
  },
  "language_info": {
   "codemirror_mode": {
    "name": "ipython",
    "version": 3
   },
   "file_extension": ".py",
   "mimetype": "text/x-python",
   "name": "python",
   "nbconvert_exporter": "python",
   "pygments_lexer": "ipython3",
   "version": "3.6.8"
  }
 },
 "nbformat": 4,
 "nbformat_minor": 2
}
