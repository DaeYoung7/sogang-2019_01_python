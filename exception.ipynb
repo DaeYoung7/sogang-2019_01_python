{
 "cells": [
  {
   "cell_type": "code",
   "execution_count": null,
   "metadata": {},
   "outputs": [
    {
     "name": "stdout",
     "output_type": "stream",
     "text": [
      "인덱스를 입력하시오: -2\n",
      "9\n",
      "인덱스를 입력하시오: 9\n",
      "9\n",
      "인덱스를 입력하시오: 0\n",
      "0\n",
      "인덱스를 입력하시오: \n",
      "숫자를 입력하시오.\n",
      "인덱스를 입력하시오: ㅂ\n",
      "숫자를 입력하시오.\n",
      "인덱스를 입력하시오: \n",
      "숫자를 입력하시오.\n",
      "인덱스를 입력하시오: ^C\n",
      "숫자를 입력하시오.\n",
      "인덱스를 입력하시오: ^c\n",
      "숫자를 입력하시오.\n"
     ]
    }
   ],
   "source": [
    "num=list(range(11))\n",
    "while True:\n",
    "    try:\n",
    "        index=int(input(\"인덱스를 입력하시오: \"))\n",
    "        print(num[index])\n",
    "    except ValueError:\n",
    "        print(\"숫자를 입력하시오.\")\n",
    "    except IndexError:\n",
    "        print(-1)\n",
    "    except KeyboardInterrupt:\n",
    "        print(\"프로그램을 종료합니다.\")\n",
    "        break"
   ]
  },
  {
   "cell_type": "code",
   "execution_count": null,
   "metadata": {},
   "outputs": [],
   "source": []
  }
 ],
 "metadata": {
  "kernelspec": {
   "display_name": "Python 3",
   "language": "python",
   "name": "python3"
  },
  "language_info": {
   "codemirror_mode": {
    "name": "ipython",
    "version": 3
   },
   "file_extension": ".py",
   "mimetype": "text/x-python",
   "name": "python",
   "nbconvert_exporter": "python",
   "pygments_lexer": "ipython3",
   "version": "3.6.8"
  }
 },
 "nbformat": 4,
 "nbformat_minor": 2
}
