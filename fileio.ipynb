{
 "cells": [
  {
   "cell_type": "code",
   "execution_count": 1,
   "metadata": {},
   "outputs": [
    {
     "name": "stdout",
     "output_type": "stream",
     "text": [
      "실습 1번\n",
      "\n",
      "__pycache__ <DIR>\n"
     ]
    }
   ],
   "source": [
    "import glob, os\n",
    "print(\"실습 1번\\n\")\n",
    "a=glob.glob(\"*\")\n",
    "for i in a:\n",
    "    if os.path.isdir(i):\n",
    "        print(i,\"<DIR>\")"
   ]
  },
  {
   "cell_type": "code",
   "execution_count": 2,
   "metadata": {},
   "outputs": [
    {
     "name": "stdout",
     "output_type": "stream",
     "text": [
      "실습 2번\n"
     ]
    }
   ],
   "source": [
    "with open(\"information.txt\", \"w\") as fp:\n",
    "    print(\"실습 2번\")\n",
    "    fp.write('3\\n3.14\\n\"3.14\"')"
   ]
  },
  {
   "cell_type": "code",
   "execution_count": 5,
   "metadata": {},
   "outputs": [
    {
     "name": "stdout",
     "output_type": "stream",
     "text": [
      "실습 3번\n",
      "3\n",
      "3.14\n",
      "\"3.14\"\n",
      "\n",
      "실습 4번\n",
      "\n",
      "실습 5번\n",
      "3\n",
      "3.14\n",
      "\"3.14\"\n"
     ]
    }
   ],
   "source": [
    "import pickle\n",
    "\n",
    "with open(\"information.txt\", \"r\") as fp:\n",
    "    print(\"실습 3번\")\n",
    "    a=fp.readlines()\n",
    "    for i in range(len(a)):\n",
    "        a[i]=a[i].strip()\n",
    "        print(a[i])\n",
    "with open(\"information.dat\", \"wb\") as fp:\n",
    "    print(\"\\n실습 4번\")\n",
    "    for i in a:\n",
    "        i=str(str(i))\n",
    "        pickle.dump(i,fp)\n",
    "with open(\"information.dat\", \"rb\") as fp:\n",
    "    print(\"\\n실습 5번\")\n",
    "    for i in range(len(a)):\n",
    "        data=pickle.load(fp)\n",
    "        data=data.strip()\n",
    "        print(data)"
   ]
  },
  {
   "cell_type": "code",
   "execution_count": null,
   "metadata": {
    "collapsed": true
   },
   "outputs": [],
   "source": []
  }
 ],
 "metadata": {
  "kernelspec": {
   "display_name": "Python 3",
   "language": "python",
   "name": "python3"
  },
  "language_info": {
   "codemirror_mode": {
    "name": "ipython",
    "version": 3
   },
   "file_extension": ".py",
   "mimetype": "text/x-python",
   "name": "python",
   "nbconvert_exporter": "python",
   "pygments_lexer": "ipython3",
   "version": "3.6.8"
  }
 },
 "nbformat": 4,
 "nbformat_minor": 2
}
